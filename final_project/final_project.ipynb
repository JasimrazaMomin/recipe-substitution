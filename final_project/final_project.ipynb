{
 "cells": [
  {
   "cell_type": "code",
   "execution_count": 2,
   "id": "b68591a5-2efe-4f3b-aae8-1580e545be0a",
   "metadata": {},
   "outputs": [],
   "source": [
    "import pandas as pd\n",
    "import tensorflow as tf \n",
    "import numpy as np\n",
    "import matplotlib.pyplot as plt\n",
    "from sklearn.metrics import accuracy_score, precision_score, recall_score\n",
    "from sklearn.model_selection import train_test_split\n",
    "from tensorflow.keras.layers import Input, Dense\n",
    "from tensorflow.keras.models import Model, save_model\n",
    "from tensorflow.keras.regularizers import L2\n",
    "from gensim.models import Word2Vec\n",
    "from sklearn.model_selection import train_test_split\n",
    "import math\n",
    "from sklearn.metrics import mean_squared_error, silhouette_score\n",
    "from sklearn.cluster import KMeans\n",
    "from sklearn.manifold import TSNE\n",
    "import time\n",
    "import umap.umap_ as umap"
   ]
  },
  {
   "cell_type": "code",
   "execution_count": 3,
   "id": "42ef55f2-d4b9-4932-9fde-6971162c3bc4",
   "metadata": {},
   "outputs": [],
   "source": [
    "import nltk\n",
    "# nltk.download('punkt')\n",
    "from nltk.tokenize import word_tokenize\n",
    "import re\n",
    "np.random.seed(42)"
   ]
  },
  {
   "cell_type": "code",
   "execution_count": null,
   "id": "7431c3cd-72aa-4724-a1c3-e291bf6c027f",
   "metadata": {},
   "outputs": [],
   "source": [
    "full_df = pd.read_csv('full_dataset.csv')\n",
    "df = full_df[\"NER\"]"
   ]
  },
  {
   "cell_type": "code",
   "execution_count": null,
   "id": "84159f6e-fd81-4a8e-b3dc-5de1ade3b557",
   "metadata": {
    "scrolled": true
   },
   "outputs": [],
   "source": [
    "del full_df"
   ]
  },
  {
   "cell_type": "code",
   "execution_count": 5,
   "id": "e448e358-e936-4c05-a897-1cc1388a6faa",
   "metadata": {},
   "outputs": [
    {
     "name": "stdout",
     "output_type": "stream",
     "text": [
      "<class 'pandas.core.series.Series'>\n",
      "RangeIndex: 2231142 entries, 0 to 2231141\n",
      "Series name: NER\n",
      "Non-Null Count    Dtype \n",
      "--------------    ----- \n",
      "2231142 non-null  object\n",
      "dtypes: object(1)\n",
      "memory usage: 17.0+ MB\n",
      "None\n"
     ]
    }
   ],
   "source": [
    "# print(df.describe())\n",
    "print(df.info())\n",
    "# print(df.NER.nunique())\n",
    "# print(df.shape)"
   ]
  },
  {
   "cell_type": "code",
   "execution_count": 6,
   "id": "607ebfca-6387-4e41-9d70-686adefa0a9b",
   "metadata": {},
   "outputs": [],
   "source": [
    "def make_into_item_list(s):\n",
    "    s = s[1:-1]\n",
    "    my_list = []\n",
    "    substring = ''\n",
    "    done = True\n",
    "    my_set = {',',' '}\n",
    "    for char in s:\n",
    "        if char == '\"':\n",
    "            if done == True:\n",
    "                done = False\n",
    "                continue\n",
    "            my_list.append(substring)\n",
    "            substring = ''\n",
    "            done = True\n",
    "            continue\n",
    "        elif char == ',':\n",
    "            continue\n",
    "        elif char == ' ':\n",
    "            if done == True:\n",
    "                continue\n",
    "        elif char == '-':\n",
    "            substring += ' '\n",
    "            continue\n",
    "        substring += char.lower()\n",
    "    return my_list\n",
    "\n",
    "def tokenize(ingredients):\n",
    "    ingredient_cleaned = re.sub(r\"[^\\w\\s]\",\"\",ingredients)\n",
    "    tokens = word_tokenize(ingredient_cleaned)\n",
    "    if len(tokens) <= 200000:\n",
    "        return ingredient_cleaned\n",
    "    return tokens"
   ]
  },
  {
   "cell_type": "code",
   "execution_count": 7,
   "id": "01c851dc-7407-4463-8465-4592d181f0fa",
   "metadata": {},
   "outputs": [],
   "source": [
    "unique_items = dict()\n",
    "i = 0\n",
    "recipe_ingredients = []\n",
    "\n",
    "for row in df[:200000]:\n",
    "    item_list = make_into_item_list(row)\n",
    "    for item in item_list:\n",
    "        if item not in unique_items:\n",
    "            unique_items[item] = 1\n",
    "        else:\n",
    "            unique_items[item] += 1\n",
    "    tokenized_list = [tokenize(ingredient) for ingredient in item_list]\n",
    "    recipe_ingredients.append(tokenized_list)\n",
    "    i+=1\n",
    "    \n",
    "# print(row)\n",
    "# print(make_into_item_list(row))\n",
    "# print(set(make_into_item_list(row)))\n",
    "# print(i)\n",
    "# print(len(unique_items))\n",
    "# print(len(recipe_ingredients))"
   ]
  },
  {
   "cell_type": "code",
   "execution_count": null,
   "id": "8b5660cb-6758-415f-ad5a-3cafa5ed9dda",
   "metadata": {
    "scrolled": true
   },
   "outputs": [],
   "source": []
  },
  {
   "cell_type": "code",
   "execution_count": null,
   "id": "79c0c0b2-9409-4b67-b0e7-389df896123d",
   "metadata": {
    "scrolled": true
   },
   "outputs": [],
   "source": []
  },
  {
   "cell_type": "code",
   "execution_count": null,
   "id": "c16d1c8e-afa7-430c-9dff-d29fe6fdb083",
   "metadata": {
    "scrolled": true
   },
   "outputs": [],
   "source": []
  },
  {
   "cell_type": "code",
   "execution_count": 8,
   "id": "0552bbb3-ef05-4f15-996b-1c00171fdaef",
   "metadata": {},
   "outputs": [],
   "source": [
    "w2v = Word2Vec(sentences=recipe_ingredients,vector_size=300,window=5,workers=4,min_count=5,sg=1)"
   ]
  },
  {
   "cell_type": "code",
   "execution_count": 9,
   "id": "aac7aa7f-2dbf-46e6-b7d9-06e9dc4e43c6",
   "metadata": {},
   "outputs": [],
   "source": [
    "w2v.save(\"ingredient_word2vec_1000.model\")"
   ]
  },
  {
   "cell_type": "code",
   "execution_count": 10,
   "id": "e2e335dd-f687-421c-ba8c-c86db226c3da",
   "metadata": {},
   "outputs": [],
   "source": [
    "model = Word2Vec.load(\"ingredient_word2vec_1000.model\")"
   ]
  },
  {
   "cell_type": "code",
   "execution_count": null,
   "id": "ae71ff6a-8af8-49fc-a76e-dc5cdfbb1cb1",
   "metadata": {},
   "outputs": [],
   "source": []
  },
  {
   "cell_type": "code",
   "execution_count": null,
   "id": "c34b4f4c-37ea-4f00-82c5-d9631ab55b69",
   "metadata": {},
   "outputs": [],
   "source": []
  },
  {
   "cell_type": "code",
   "execution_count": null,
   "id": "ed438183-56d5-4b42-9ffb-69702d4455bf",
   "metadata": {},
   "outputs": [],
   "source": []
  },
  {
   "cell_type": "code",
   "execution_count": 1,
   "id": "f22e54ec-178b-4c8d-bf8e-3c76387297f6",
   "metadata": {},
   "outputs": [
    {
     "ename": "NameError",
     "evalue": "name 'model' is not defined",
     "output_type": "error",
     "traceback": [
      "\u001b[31m---------------------------------------------------------------------------\u001b[39m",
      "\u001b[31mNameError\u001b[39m                                 Traceback (most recent call last)",
      "\u001b[36mCell\u001b[39m\u001b[36m \u001b[39m\u001b[32mIn[1]\u001b[39m\u001b[32m, line 1\u001b[39m\n\u001b[32m----> \u001b[39m\u001b[32m1\u001b[39m v = \u001b[43mmodel\u001b[49m.wv[\u001b[33m\"\u001b[39m\u001b[33mbutter\u001b[39m\u001b[33m\"\u001b[39m]\n\u001b[32m      2\u001b[39m new_recipes = []\n\u001b[32m      3\u001b[39m errors = []\n",
      "\u001b[31mNameError\u001b[39m: name 'model' is not defined"
     ]
    }
   ],
   "source": [
    "v = model.wv[\"butter\"]\n",
    "new_recipes = []\n",
    "errors = []\n",
    "issue_flag = False\n",
    "recipe_vectors = []\n",
    "for i in range(len(recipe_ingredients[:200000])):\n",
    "    temp = []\n",
    "    \n",
    "    for ingredient in recipe_ingredients[i]:\n",
    "        try:\n",
    "            vector = model.wv[ingredient]\n",
    "            norm = np.linalg.norm(vector)\n",
    "            if norm == 0:\n",
    "                normed_vector = vector/(1e-12)\n",
    "            else:\n",
    "                normed_vector = vector/ norm\n",
    "            # temp.append(model.wv[ingredient])\n",
    "            temp.append(normed_vector)\n",
    "        except KeyError:\n",
    "            # print(f\"Key: {ingredient} not found\")\n",
    "            errors.append(recipe_ingredients[i])\n",
    "            issue_flag = True\n",
    "            break\n",
    "            \n",
    "    if issue_flag:\n",
    "        issue_flag = False\n",
    "        continue\n",
    "        \n",
    "    # new_recipes.append(temp)\n",
    "    recipe_vectors.append(temp)\n",
    "    \n",
    "print(len(errors))\n",
    "# print(new_recipes)\n",
    "# print(np.linalg.norm(v/np.linalg.norm(v)))"
   ]
  },
  {
   "cell_type": "code",
   "execution_count": null,
   "id": "90e4628c-0b18-44da-acd5-4857170e9b5e",
   "metadata": {},
   "outputs": [],
   "source": [
    "averaged_recipe_list = []\n",
    "for recipe in recipe_vectors:\n",
    "    res = np.mean(recipe,axis=0)\n",
    "    if type(res) == np.float64 and math.isnan(res):\n",
    "        continue\n",
    "    else:\n",
    "        averaged_recipe_list.append(res)\n"
   ]
  },
  {
   "cell_type": "code",
   "execution_count": null,
   "id": "0871d76f-703e-4398-a70c-30b28751f5a6",
   "metadata": {},
   "outputs": [],
   "source": [
    "inter_df = pd.DataFrame(averaged_recipe_list)\n",
    "# # print(inter_df.head())\n",
    "# # print(inter_df.shape())\n",
    "# print(inter_df.shape)"
   ]
  },
  {
   "cell_type": "code",
   "execution_count": null,
   "id": "59088bb4-0008-4c65-a2b0-2e2ebf4dc3df",
   "metadata": {},
   "outputs": [],
   "source": [
    "renamed = {}\n",
    "for i in range(300):\n",
    "    renamed[i] = f\"{i}\"\n",
    "inter_df.rename(columns = renamed,inplace=True)"
   ]
  },
  {
   "cell_type": "code",
   "execution_count": null,
   "id": "9ee91f7b-eb18-4985-bad3-d281ad949613",
   "metadata": {},
   "outputs": [],
   "source": [
    "inter_df.to_parquet('averaged_recipe_list_1000.parquet')\n",
    "# averaged_recipe_list = pd.read_parquet('averaged_recipe_list.parquet')"
   ]
  },
  {
   "cell_type": "code",
   "execution_count": null,
   "id": "dda930a7-3927-4aa5-a0cb-3213e90e6f97",
   "metadata": {},
   "outputs": [],
   "source": [
    "print(averaged_recipe_list.shape)\n",
    "averaged_recipe_list = averaged_recipe_list[:200000]\n",
    "print(averaged_recipe_list.shape)"
   ]
  },
  {
   "cell_type": "code",
   "execution_count": null,
   "id": "35e8e6ff-9277-47e5-82e2-67947f811520",
   "metadata": {},
   "outputs": [],
   "source": [
    "X_train, X_val = train_test_split(averaged_recipe_list,test_size = 0.2,random_state =42, shuffle=True)\n",
    "#print(len(X_train[0]))\n",
    "#print(X_test[:10])"
   ]
  },
  {
   "cell_type": "code",
   "execution_count": null,
   "id": "c2f83b51-8c22-44e5-82ec-04bf7d52ba2b",
   "metadata": {},
   "outputs": [],
   "source": [
    "# comp = len(X_train[0])\n",
    "# issues_in_size = []\n",
    "# for thing in X_train:\n",
    "#     if len(thing) != comp:\n",
    "#         issues_in_size.append(thing)\n",
    "# print(len(issues_in_size))\n",
    "# i = 0\n",
    "# for vector in averaged_recipe_list:\n",
    "#     try:\n",
    "#         if math.isnan(vector):\n",
    "#             i += 1\n",
    "#     except:\n",
    "#         pass\n",
    "# print(i)"
   ]
  },
  {
   "cell_type": "code",
   "execution_count": 36,
   "id": "13410598-7935-458a-9c16-ac230083c2df",
   "metadata": {},
   "outputs": [
    {
     "data": {
      "text/html": [
       "<pre style=\"white-space:pre;overflow-x:auto;line-height:normal;font-family:Menlo,'DejaVu Sans Mono',consolas,'Courier New',monospace\"><span style=\"font-weight: bold\">Model: \"functional_3\"</span>\n",
       "</pre>\n"
      ],
      "text/plain": [
       "\u001b[1mModel: \"functional_3\"\u001b[0m\n"
      ]
     },
     "metadata": {},
     "output_type": "display_data"
    },
    {
     "data": {
      "text/html": [
       "<pre style=\"white-space:pre;overflow-x:auto;line-height:normal;font-family:Menlo,'DejaVu Sans Mono',consolas,'Courier New',monospace\">┏━━━━━━━━━━━━━━━━━━━━━━━━━━━━━━━━━┳━━━━━━━━━━━━━━━━━━━━━━━━┳━━━━━━━━━━━━━━━┓\n",
       "┃<span style=\"font-weight: bold\"> Layer (type)                    </span>┃<span style=\"font-weight: bold\"> Output Shape           </span>┃<span style=\"font-weight: bold\">       Param # </span>┃\n",
       "┡━━━━━━━━━━━━━━━━━━━━━━━━━━━━━━━━━╇━━━━━━━━━━━━━━━━━━━━━━━━╇━━━━━━━━━━━━━━━┩\n",
       "│ input_layer_2 (<span style=\"color: #0087ff; text-decoration-color: #0087ff\">InputLayer</span>)      │ (<span style=\"color: #00d7ff; text-decoration-color: #00d7ff\">None</span>, <span style=\"color: #00af00; text-decoration-color: #00af00\">100</span>)            │             <span style=\"color: #00af00; text-decoration-color: #00af00\">0</span> │\n",
       "├─────────────────────────────────┼────────────────────────┼───────────────┤\n",
       "│ dense_8 (<span style=\"color: #0087ff; text-decoration-color: #0087ff\">Dense</span>)                 │ (<span style=\"color: #00d7ff; text-decoration-color: #00d7ff\">None</span>, <span style=\"color: #00af00; text-decoration-color: #00af00\">64</span>)             │         <span style=\"color: #00af00; text-decoration-color: #00af00\">6,464</span> │\n",
       "├─────────────────────────────────┼────────────────────────┼───────────────┤\n",
       "│ dense_9 (<span style=\"color: #0087ff; text-decoration-color: #0087ff\">Dense</span>)                 │ (<span style=\"color: #00d7ff; text-decoration-color: #00d7ff\">None</span>, <span style=\"color: #00af00; text-decoration-color: #00af00\">32</span>)             │         <span style=\"color: #00af00; text-decoration-color: #00af00\">2,080</span> │\n",
       "├─────────────────────────────────┼────────────────────────┼───────────────┤\n",
       "│ dense_10 (<span style=\"color: #0087ff; text-decoration-color: #0087ff\">Dense</span>)                │ (<span style=\"color: #00d7ff; text-decoration-color: #00d7ff\">None</span>, <span style=\"color: #00af00; text-decoration-color: #00af00\">64</span>)             │         <span style=\"color: #00af00; text-decoration-color: #00af00\">2,112</span> │\n",
       "├─────────────────────────────────┼────────────────────────┼───────────────┤\n",
       "│ dense_11 (<span style=\"color: #0087ff; text-decoration-color: #0087ff\">Dense</span>)                │ (<span style=\"color: #00d7ff; text-decoration-color: #00d7ff\">None</span>, <span style=\"color: #00af00; text-decoration-color: #00af00\">100</span>)            │         <span style=\"color: #00af00; text-decoration-color: #00af00\">6,500</span> │\n",
       "└─────────────────────────────────┴────────────────────────┴───────────────┘\n",
       "</pre>\n"
      ],
      "text/plain": [
       "┏━━━━━━━━━━━━━━━━━━━━━━━━━━━━━━━━━┳━━━━━━━━━━━━━━━━━━━━━━━━┳━━━━━━━━━━━━━━━┓\n",
       "┃\u001b[1m \u001b[0m\u001b[1mLayer (type)                   \u001b[0m\u001b[1m \u001b[0m┃\u001b[1m \u001b[0m\u001b[1mOutput Shape          \u001b[0m\u001b[1m \u001b[0m┃\u001b[1m \u001b[0m\u001b[1m      Param #\u001b[0m\u001b[1m \u001b[0m┃\n",
       "┡━━━━━━━━━━━━━━━━━━━━━━━━━━━━━━━━━╇━━━━━━━━━━━━━━━━━━━━━━━━╇━━━━━━━━━━━━━━━┩\n",
       "│ input_layer_2 (\u001b[38;5;33mInputLayer\u001b[0m)      │ (\u001b[38;5;45mNone\u001b[0m, \u001b[38;5;34m100\u001b[0m)            │             \u001b[38;5;34m0\u001b[0m │\n",
       "├─────────────────────────────────┼────────────────────────┼───────────────┤\n",
       "│ dense_8 (\u001b[38;5;33mDense\u001b[0m)                 │ (\u001b[38;5;45mNone\u001b[0m, \u001b[38;5;34m64\u001b[0m)             │         \u001b[38;5;34m6,464\u001b[0m │\n",
       "├─────────────────────────────────┼────────────────────────┼───────────────┤\n",
       "│ dense_9 (\u001b[38;5;33mDense\u001b[0m)                 │ (\u001b[38;5;45mNone\u001b[0m, \u001b[38;5;34m32\u001b[0m)             │         \u001b[38;5;34m2,080\u001b[0m │\n",
       "├─────────────────────────────────┼────────────────────────┼───────────────┤\n",
       "│ dense_10 (\u001b[38;5;33mDense\u001b[0m)                │ (\u001b[38;5;45mNone\u001b[0m, \u001b[38;5;34m64\u001b[0m)             │         \u001b[38;5;34m2,112\u001b[0m │\n",
       "├─────────────────────────────────┼────────────────────────┼───────────────┤\n",
       "│ dense_11 (\u001b[38;5;33mDense\u001b[0m)                │ (\u001b[38;5;45mNone\u001b[0m, \u001b[38;5;34m100\u001b[0m)            │         \u001b[38;5;34m6,500\u001b[0m │\n",
       "└─────────────────────────────────┴────────────────────────┴───────────────┘\n"
      ]
     },
     "metadata": {},
     "output_type": "display_data"
    },
    {
     "data": {
      "text/html": [
       "<pre style=\"white-space:pre;overflow-x:auto;line-height:normal;font-family:Menlo,'DejaVu Sans Mono',consolas,'Courier New',monospace\"><span style=\"font-weight: bold\"> Total params: </span><span style=\"color: #00af00; text-decoration-color: #00af00\">17,156</span> (67.02 KB)\n",
       "</pre>\n"
      ],
      "text/plain": [
       "\u001b[1m Total params: \u001b[0m\u001b[38;5;34m17,156\u001b[0m (67.02 KB)\n"
      ]
     },
     "metadata": {},
     "output_type": "display_data"
    },
    {
     "data": {
      "text/html": [
       "<pre style=\"white-space:pre;overflow-x:auto;line-height:normal;font-family:Menlo,'DejaVu Sans Mono',consolas,'Courier New',monospace\"><span style=\"font-weight: bold\"> Trainable params: </span><span style=\"color: #00af00; text-decoration-color: #00af00\">17,156</span> (67.02 KB)\n",
       "</pre>\n"
      ],
      "text/plain": [
       "\u001b[1m Trainable params: \u001b[0m\u001b[38;5;34m17,156\u001b[0m (67.02 KB)\n"
      ]
     },
     "metadata": {},
     "output_type": "display_data"
    },
    {
     "data": {
      "text/html": [
       "<pre style=\"white-space:pre;overflow-x:auto;line-height:normal;font-family:Menlo,'DejaVu Sans Mono',consolas,'Courier New',monospace\"><span style=\"font-weight: bold\"> Non-trainable params: </span><span style=\"color: #00af00; text-decoration-color: #00af00\">0</span> (0.00 B)\n",
       "</pre>\n"
      ],
      "text/plain": [
       "\u001b[1m Non-trainable params: \u001b[0m\u001b[38;5;34m0\u001b[0m (0.00 B)\n"
      ]
     },
     "metadata": {},
     "output_type": "display_data"
    }
   ],
   "source": [
    "l2_lambda = 0.01 # could try smaller or larger or dont include at all (and use dropout)\n",
    "droprate = 0.3 # include or not include, could increase or decrease\n",
    "# Encoder\n",
    "input_vector = Input(shape=(100,))\n",
    "# encoded = Dense(64, activation='relu', kernel_regularizer=L2(l2_lambda))(input_vector)\n",
    "# encoded = Dense(32, activation='relu', kernel_regularizer=L2(l2_lambda))(encoded)\n",
    "encoded = Dense(64, activation='relu')(input_vector)\n",
    "latent = Dense(32, activation='relu')(encoded)\n",
    "# latent = Dense(16, activation='relu')(encoded)  # could cut it to be latent at 32\n",
    "\n",
    "# Decoder (symmetric to encoder)\n",
    "# decoded = Dense(32, activation='relu', kernel_regularizer=L2(l2_lambda))(latent)\n",
    "# decoded = Dense(64, activation='relu', kernel_regularizer=L2(l2_lambda))(decoded)\n",
    "# decoded = Dense(32, activation='relu')(latent)\n",
    "# decoded = Dense(64, activation='relu')(decoded)\n",
    "decoded = Dense(64, activation='relu')(latent)\n",
    "output_vector = Dense(100, activation='linear')(decoded) # could switch to linear and see what happens (if normalization is not [0,1]\n",
    "\n",
    "# Build the autoencoder model\n",
    "autoencoder = Model(input_vector, output_vector)\n",
    "\n",
    "# Compile the model\n",
    "# autoencoder.compile(optimizer='adam', loss='mse',steps_per_execution=1)\n",
    "autoencoder.compile(optimizer=tf.keras.optimizers.Adam(learning_rate=0.0001),\n",
    "                    loss='mse',\n",
    "                    steps_per_execution=1)\n",
    "\n",
    "# Summary of the model architecture\n",
    "autoencoder.summary()"
   ]
  },
  {
   "cell_type": "code",
   "execution_count": 37,
   "id": "34163e33-14ae-4dcf-8fe0-e44e83013f5b",
   "metadata": {},
   "outputs": [],
   "source": [
    "# X_train_v1 = np.array(X_train[:100])\n",
    "# X_val_v1 = np.array(X_val[:100])\n",
    "X_train_v1 = np.array(X_train)\n",
    "X_val_v1 = np.array(X_val)\n",
    "X_train_v1 = tf.convert_to_tensor(X_train_v1)\n",
    "X_val_v1 = tf.convert_to_tensor(X_val_v1)\n",
    "\n",
    "# print(type(X_train[0]))\n"
   ]
  },
  {
   "cell_type": "code",
   "execution_count": 17,
   "id": "554144c9-9e48-46f0-a90a-713a97531af4",
   "metadata": {},
   "outputs": [],
   "source": [
    "# xv1 = np.stack(X_train_v1)  # Shape: (num_samples, ...)\n",
    "# xv2 = tf.data.Dataset.from_tensor_slices(xv1)\n",
    "\n",
    "# # Configure batching, shuffling, etc.\n",
    "# xv2 = xv2.shuffle(buffer_size=10000).batch(32).prefetch(tf.data.AUTOTUNE)\n",
    "\n",
    "# xvv1 = np.stack(X_val_v1)  # Shape: (num_samples, ...)\n",
    "# xvv2 = tf.data.Dataset.from_tensor_slices(xvv1)\n",
    "\n",
    "# # Configure batching, shuffling, etc.\n",
    "# xvv2 = xvv2.shuffle(buffer_size=10000).batch(32).prefetch(tf.data.AUTOTUNE)"
   ]
  },
  {
   "cell_type": "code",
   "execution_count": 41,
   "id": "872f54a2-5d14-44bf-9cd0-481c6fefbf45",
   "metadata": {},
   "outputs": [
    {
     "name": "stdout",
     "output_type": "stream",
     "text": [
      "Epoch 1/5\n",
      "\u001b[1m2500/2500\u001b[0m \u001b[32m━━━━━━━━━━━━━━━━━━━━\u001b[0m\u001b[37m\u001b[0m \u001b[1m23s\u001b[0m 9ms/step - loss: 6.3678e-04 - val_loss: 5.4206e-04\n",
      "Epoch 2/5\n",
      "\u001b[1m2500/2500\u001b[0m \u001b[32m━━━━━━━━━━━━━━━━━━━━\u001b[0m\u001b[37m\u001b[0m \u001b[1m22s\u001b[0m 9ms/step - loss: 5.2267e-04 - val_loss: 4.7970e-04\n",
      "Epoch 3/5\n",
      "\u001b[1m2500/2500\u001b[0m \u001b[32m━━━━━━━━━━━━━━━━━━━━\u001b[0m\u001b[37m\u001b[0m \u001b[1m23s\u001b[0m 9ms/step - loss: 4.7692e-04 - val_loss: 4.6271e-04\n",
      "Epoch 4/5\n",
      "\u001b[1m2500/2500\u001b[0m \u001b[32m━━━━━━━━━━━━━━━━━━━━\u001b[0m\u001b[37m\u001b[0m \u001b[1m21s\u001b[0m 8ms/step - loss: 4.7137e-04 - val_loss: 4.9033e-04\n",
      "Epoch 5/5\n",
      "\u001b[1m2500/2500\u001b[0m \u001b[32m━━━━━━━━━━━━━━━━━━━━\u001b[0m\u001b[37m\u001b[0m \u001b[1m23s\u001b[0m 9ms/step - loss: 5.0805e-04 - val_loss: 5.4072e-04\n"
     ]
    }
   ],
   "source": [
    "history = autoencoder.fit(\n",
    "    X_train_v1, X_train_v1,\n",
    "    epochs=5,\n",
    "    batch_size=64,\n",
    "    validation_data=(X_val_v1, X_val_v1),\n",
    "    verbose=1\n",
    ")\n",
    "# history = autoencoder.fit(\n",
    "#     xv2, xv2,\n",
    "#     epochs=5,\n",
    "#     batch_size=128,\n",
    "#     validation_data=(xvv2,xvv2),\n",
    "#     verbose=1\n",
    "# )"
   ]
  },
  {
   "cell_type": "code",
   "execution_count": 42,
   "id": "a0134a5e-a9d0-4f44-b53d-ed11b1906b00",
   "metadata": {},
   "outputs": [
    {
     "data": {
      "image/png": "[encoded data removed]",
      "text/plain": [
       "<Figure size 640x480 with 1 Axes>"
      ]
     },
     "metadata": {},
     "output_type": "display_data"
    }
   ],
   "source": [
    "plt.plot(history.history['loss'], label='Training Loss')\n",
    "plt.plot(history.history['val_loss'], label='Validation Loss')\n",
    "plt.title(\"Training and Validation Loss\")\n",
    "plt.xlabel(\"Epoch\")\n",
    "plt.ylabel(\"Loss (MSE)\")\n",
    "plt.legend()\n",
    "plt.show()"
   ]
  },
  {
   "cell_type": "code",
   "execution_count": 47,
   "id": "3916b0cb-4b07-41b7-af06-26a44e2838a4",
   "metadata": {},
   "outputs": [],
   "source": [
    "save_model(autoencoder,'autoencoder_model_cuslr_linear_e5_b64_10pv.keras')"
   ]
  },
  {
   "cell_type": "code",
   "execution_count": 44,
   "id": "70f018d7-37e1-4056-8f11-6adc46af3a7e",
   "metadata": {},
   "outputs": [
    {
     "name": "stdout",
     "output_type": "stream",
     "text": [
      "\u001b[1m5000/5000\u001b[0m \u001b[32m━━━━━━━━━━━━━━━━━━━━\u001b[0m\u001b[37m\u001b[0m \u001b[1m8s\u001b[0m 2ms/step\n"
     ]
    },
    {
     "data": {
      "image/png": "[encoded data removed]",
      "text/plain": [
       "<Figure size 640x480 with 1 Axes>"
      ]
     },
     "metadata": {},
     "output_type": "display_data"
    }
   ],
   "source": [
    "n_samples = 5\n",
    "# test_samples = np.array(X_train_v1)[:n_samples]\n",
    "test_samples = np.array(X_train_v1)\n",
    "# test_samples = np.random.choice(np.array(X_train_v1),size=(5))\n",
    "\n",
    "reconstructed_samples = autoencoder.predict(test_samples)\n",
    "# fig, axes = plt.subplots(n_samples, 2, figsize=(8, 2 * n_samples))\n",
    "\n",
    "# for i in range(n_samples):\n",
    "#     axes[i, 0].imshow(test_samples[i].reshape(1,100), cmap=\"gray\")  # Modify shape for your data\n",
    "#     axes[i, 0].set_title(\"Original\")\n",
    "#     axes[i, 0].axis(\"off\")\n",
    "\n",
    "#     axes[i, 1].imshow(reconstructed_samples[i].reshape(1, 100), cmap=\"gray\")  # Modify shape for your data\n",
    "#     axes[i, 1].set_title(\"Reconstructed\")\n",
    "#     axes[i, 1].axis(\"off\")\n",
    "\n",
    "# plt.tight_layout()\n",
    "# plt.show()\n",
    "\n",
    "# Flatten the input and output for comparison\n",
    "X_test_flat = np.array(X_train_v1).reshape(len(X_train_v1), -1)\n",
    "recon_flat = reconstructed_samples.reshape(len(reconstructed_samples), -1)\n",
    "\n",
    "# Compute MSE for each sample\n",
    "mse_scores = np.mean(np.square(X_test_flat - recon_flat), axis=1)\n",
    "\n",
    "# Plot distribution of MSE\n",
    "plt.hist(mse_scores, bins=50)\n",
    "plt.xlabel(\"Reconstruction Error (MSE)\")\n",
    "plt.ylabel(\"Frequency\")\n",
    "plt.title(\"Distribution of Reconstruction Errors\")\n",
    "plt.show()"
   ]
  },
  {
   "cell_type": "code",
   "execution_count": 45,
   "id": "2c87fbbb-232e-4884-9f48-8bf99e551cf8",
   "metadata": {
    "scrolled": true
   },
   "outputs": [
    {
     "name": "stdout",
     "output_type": "stream",
     "text": [
      "\u001b[1m1/1\u001b[0m \u001b[32m━━━━━━━━━━━━━━━━━━━━\u001b[0m\u001b[37m\u001b[0m \u001b[1m0s\u001b[0m 68ms/step\n"
     ]
    },
    {
     "data": {
      "image/png": "[encoded data removed]",
      "text/plain": [
       "<Figure size 800x1000 with 10 Axes>"
      ]
     },
     "metadata": {},
     "output_type": "display_data"
    },
    {
     "name": "stdout",
     "output_type": "stream",
     "text": [
      "[ 6.5307207e-03  1.0409558e-01 -2.2762494e-02  1.6767696e-01\n",
      "  3.8492922e-02 -1.7833477e-01  4.4450015e-02  2.1703379e-01\n",
      " -3.0755360e-02 -1.5304452e-02  2.6777687e-02  1.1778902e-05\n",
      " -6.8262920e-02  1.3203616e-01  1.0363208e-01 -4.3176059e-03\n",
      "  4.5386571e-02  3.7673075e-02  3.5134941e-02 -2.0402205e-01\n",
      " -6.1430028e-03  5.1568441e-02  6.9423206e-04  7.9448715e-02\n",
      " -6.2529303e-02  3.2148503e-02 -4.9314827e-02  8.5344233e-02\n",
      " -4.8377298e-02  1.9659040e-02  9.1855496e-02 -1.0199307e-02\n",
      " -2.0564217e-02 -9.5491670e-02 -8.9957394e-02  7.2650582e-02\n",
      "  1.2350830e-01  3.5567982e-03 -3.0440230e-02  9.1379974e-03\n",
      "  8.7203689e-02 -3.8024399e-02 -5.5639669e-02  2.7207524e-02\n",
      "  4.3961190e-02  7.8171603e-03 -9.3449779e-02 -4.0527090e-02\n",
      "  4.6260625e-02 -4.6953432e-02  2.1544175e-02 -1.9910103e-02\n",
      " -2.0888828e-02 -3.9812990e-02  5.8119569e-02  1.0606370e-01\n",
      "  4.7579948e-02  2.9924940e-02 -1.1973898e-02 -5.7360884e-03\n",
      "  1.4503175e-02 -3.7227023e-02 -3.7139129e-02 -2.4480190e-02\n",
      " -2.0760564e-02  3.9305117e-02  8.4925001e-04  4.4264764e-02\n",
      " -8.7792769e-02  8.4172904e-02 -3.4871962e-02 -4.9856015e-02\n",
      "  3.8848057e-02  3.2858341e-03  8.8614821e-02  1.0468175e-01\n",
      " -3.7476011e-02  3.5335027e-02 -6.2665753e-02 -9.4584927e-02\n",
      " -1.4180569e-01  4.2492360e-02 -6.4805888e-02  2.7078632e-02\n",
      " -1.3597073e-02 -3.9962087e-02  4.2768851e-02  2.5969565e-02\n",
      "  1.3970412e-01 -6.8448775e-02  4.3800835e-02 -3.0227030e-02\n",
      "  7.2192922e-02 -2.2830116e-02  9.9008195e-02  4.1119322e-02\n",
      "  8.2717448e-02  1.9622028e-02 -2.6211673e-02  8.3305668e-03]\n",
      "[-0.00215033  0.10874921 -0.03737215  0.16791111  0.02589716 -0.1715853\n",
      "  0.03841352  0.19495738 -0.02490992 -0.01208862  0.00817711 -0.03279659\n",
      " -0.05095202  0.13673759  0.10590065 -0.02013011  0.06927621  0.06437702\n",
      "  0.06713191 -0.22961168 -0.00715974  0.0187617  -0.00745653  0.0626527\n",
      " -0.04620826  0.03013226 -0.06194696  0.07895463 -0.05499206  0.0044795\n",
      "  0.09246129 -0.00312336 -0.02399883 -0.08679341 -0.0754585   0.0852706\n",
      "  0.11116572  0.00100397 -0.02252573  0.0088496   0.05831817 -0.055577\n",
      " -0.04780852  0.0527981   0.07633662  0.01516485 -0.11343089 -0.04439088\n",
      "  0.04717673 -0.05771377  0.02550692 -0.01885919 -0.00468316 -0.01048859\n",
      "  0.07779627  0.1212258   0.03529969  0.02833563 -0.01656611 -0.02308393\n",
      "  0.01282937 -0.03000668 -0.01964227 -0.03173076 -0.01268522  0.04527209\n",
      "  0.01531766  0.05812207 -0.07154564  0.06360307 -0.05108685 -0.01490362\n",
      "  0.04041178  0.00632961  0.0970148   0.08285405 -0.02471506  0.05231991\n",
      " -0.04847292 -0.09328789 -0.14386511  0.04411274 -0.05634504  0.02628529\n",
      " -0.01447198 -0.04955595  0.04324376  0.03677636  0.1421299  -0.05098064\n",
      "  0.05139758 -0.01882335  0.04218649  0.01123612  0.10731016  0.02000799\n",
      "  0.06932151  0.05135817 -0.0201017  -0.01879309]\n",
      "\n",
      "[-0.07072167 -0.00825794  0.00370756  0.08484567  0.04727621 -0.05405696\n",
      "  0.03356688  0.10806621  0.04005671 -0.05739155 -0.00155337 -0.02947973\n",
      " -0.1278737   0.05676865 -0.0243377  -0.05143059 -0.06723436  0.04095033\n",
      "  0.02146213 -0.13652433  0.02642825 -0.03904456 -0.00307747  0.03523653\n",
      " -0.01353807  0.05585457  0.00445381  0.02292248  0.01923567  0.04231551\n",
      "  0.07487323  0.04310046  0.07353316 -0.07576086  0.07858993  0.0878158\n",
      "  0.07485484  0.03060733 -0.06137435 -0.00912779 -0.00727707 -0.05567383\n",
      "  0.03932154 -0.00888206  0.07192229 -0.03738185 -0.07457105 -0.11443665\n",
      "  0.11394781  0.01029202  0.11692417 -0.00877263  0.07071105 -0.10246229\n",
      "  0.02382816  0.17333615 -0.07008486 -0.01382561 -0.08389727  0.00696173\n",
      " -0.02547186 -0.05426039 -0.02431755 -0.04125097  0.07436252  0.00444949\n",
      "  0.00769119  0.07379884 -0.10109296  0.15927894  0.00964325  0.0014787\n",
      "  0.06591397 -0.0226938   0.17740066  0.11285394 -0.01345127  0.09765338\n",
      "  0.00948935 -0.0660257  -0.15781115 -0.03291205 -0.11217722 -0.02139729\n",
      " -0.0701974  -0.0388684   0.04176989 -0.00706473  0.25210178 -0.01664673\n",
      "  0.17639887  0.00900945 -0.01674696  0.00372297  0.02749965  0.05647552\n",
      "  0.01271567 -0.08973844 -0.03206522  0.03652929]\n",
      "[-0.03745327  0.06793171 -0.00896028  0.10964876  0.04476609 -0.07959329\n",
      "  0.02564978  0.12575257  0.02521901 -0.01729443 -0.04810356 -0.03207895\n",
      " -0.08192442  0.11297859 -0.02748645 -0.00656623 -0.03796781  0.02971955\n",
      "  0.06137124 -0.16997318  0.01531848 -0.06110837 -0.03481887  0.03454637\n",
      " -0.0486021   0.03981456 -0.0076918   0.00381272 -0.00531028  0.04130193\n",
      "  0.10214669  0.08558004  0.08474818 -0.06727152  0.02529433  0.08097906\n",
      "  0.05639453  0.04897152 -0.05360169  0.03906033 -0.02302358 -0.0014933\n",
      "  0.04532064  0.00272209  0.05949711 -0.01813799 -0.04683819 -0.05443206\n",
      "  0.0607406   0.04305718  0.07902188 -0.02454523  0.04596457 -0.03768786\n",
      "  0.08596569  0.17791674 -0.02747312 -0.0367741  -0.11774392  0.03188132\n",
      " -0.01486807 -0.04457358 -0.03286771 -0.03492212  0.01093819 -0.02271703\n",
      "  0.01978824  0.08658162 -0.08732656  0.15091315 -0.03517808 -0.00730379\n",
      "  0.04556245 -0.00550465  0.12876584  0.15483119 -0.04704702  0.07207981\n",
      " -0.02409891 -0.00774032 -0.13188851 -0.05089515 -0.10461169  0.0194484\n",
      " -0.07121822  0.00570661  0.0555725   0.02862006  0.22480416  0.00596659\n",
      "  0.15133251 -0.00746675  0.01395869  0.00089204  0.05484723  0.01870324\n",
      " -0.00281299 -0.01323688 -0.01879302  0.04005886]\n",
      "\n",
      "[-6.0472782e-03  1.0640443e-01 -6.4764633e-03  1.1106023e-01\n",
      "  6.1958279e-02 -1.2648578e-01  6.4339131e-02  2.1051718e-01\n",
      "  1.3918920e-02 -3.0259334e-02  3.5240445e-02 -2.7570533e-02\n",
      " -5.6171991e-02  8.4476903e-02  8.9276530e-02 -4.3061208e-02\n",
      "  1.2305448e-02  3.4778394e-02  5.8374096e-02 -1.7464694e-01\n",
      " -3.5542600e-02  4.0087584e-02  9.8367669e-03  4.6252895e-02\n",
      " -5.4884434e-02  1.5450006e-02 -7.2203971e-02  3.6645669e-02\n",
      " -5.0795734e-02  1.4139574e-02  1.1213089e-01  3.2597035e-03\n",
      " -5.4614283e-03 -6.3927956e-02 -7.8114055e-02  6.7931227e-02\n",
      "  1.3299680e-01 -8.9984045e-05 -7.5149544e-02  3.7021481e-02\n",
      "  5.4212954e-02 -6.3968696e-02 -3.8641714e-02  3.0949920e-02\n",
      "  5.3152036e-02  1.5550470e-02 -1.3270605e-01 -2.3455029e-02\n",
      "  5.7651985e-02 -3.6838621e-02  7.5463608e-02 -2.1746134e-02\n",
      " -3.1538542e-02  8.5950019e-03  5.2422140e-02  1.1164034e-01\n",
      "  9.4058342e-02 -1.0116663e-02 -9.1010239e-03  6.5087820e-03\n",
      " -2.4876909e-02 -6.4799488e-02  1.4837817e-03 -3.4444191e-02\n",
      "  9.3996022e-03  1.4702756e-02  2.6774816e-02  3.2068759e-02\n",
      " -6.4717434e-02  4.9348537e-02 -3.4004781e-02 -4.3584384e-02\n",
      "  4.2498246e-02  1.0513172e-02  1.0719485e-01  8.3713509e-02\n",
      " -2.8975075e-02  7.2434641e-02 -5.2103616e-02 -7.2705358e-02\n",
      " -1.0387208e-01  1.5836367e-02 -2.1066386e-02  4.0983144e-02\n",
      " -5.0643802e-02 -4.1959412e-02  2.0208670e-02  1.6369579e-02\n",
      "  1.3637666e-01 -2.6760964e-02  8.9961506e-02  2.7020693e-02\n",
      "  3.0124800e-02 -1.0646963e-02  1.0775527e-01  5.5671122e-02\n",
      "  6.7171328e-02  4.6845064e-02 -3.9553341e-02  5.3113773e-03]\n",
      "[-0.01006404  0.12285334 -0.00089458  0.12391335  0.0457591  -0.14648853\n",
      "  0.05648541  0.19638526  0.01855951 -0.0097939   0.03355486 -0.04719993\n",
      " -0.048111    0.10143245  0.09039032 -0.02945966  0.04944026  0.0438257\n",
      "  0.07699838 -0.20205764 -0.04000071  0.0202936  -0.00334214  0.0506382\n",
      " -0.06709743  0.01352748 -0.08456802  0.03447907 -0.06230614  0.02510723\n",
      "  0.1035822   0.03472118 -0.00202021 -0.07296775 -0.05421063  0.07339711\n",
      "  0.12965627  0.01494442 -0.04496903  0.01806293  0.05786565 -0.05360755\n",
      " -0.03090881  0.04148072  0.06419015  0.02884918 -0.14399305 -0.01721003\n",
      "  0.05436457 -0.03449633  0.05696935 -0.03719358 -0.01970473  0.01334516\n",
      "  0.06671792  0.09955951  0.07450643 -0.01222175 -0.01029248 -0.02858902\n",
      "  0.00051434 -0.02517394 -0.01005588 -0.03550147  0.01167752  0.01905474\n",
      "  0.02653549  0.0317134  -0.06446794  0.0690501  -0.03974159 -0.02927358\n",
      "  0.0391875   0.00771948  0.08984782  0.08533682 -0.04265153  0.07089928\n",
      " -0.05678419 -0.07086885 -0.10499454  0.0057438  -0.02153974  0.03135097\n",
      " -0.05421326 -0.0462529   0.02134966  0.03898591  0.14611018 -0.04861123\n",
      "  0.07986655  0.0101407   0.03153276 -0.01356287  0.12156002  0.04377105\n",
      "  0.05412208  0.05516988 -0.0292559   0.00723458]\n",
      "\n",
      "[ 0.10695045  0.07606792 -0.03157952  0.0554248   0.00065255 -0.15742292\n",
      "  0.01245312  0.19947349 -0.03771847 -0.0331466  -0.00980702 -0.01919282\n",
      " -0.09960927  0.09385251  0.01565178  0.01018373  0.0277196   0.01707583\n",
      "  0.00178864 -0.15185325 -0.01039674  0.04084899  0.06581113  0.01425302\n",
      " -0.06283157  0.05606833 -0.05595313 -0.00928424  0.01129133  0.0438243\n",
      "  0.0835121  -0.05862311 -0.01774916 -0.09799229 -0.02125943  0.03514152\n",
      "  0.05754869  0.01604766 -0.06049861 -0.06535891  0.05145561 -0.04609563\n",
      " -0.05737397  0.00961077  0.05101249  0.04526661 -0.07455775  0.01420925\n",
      "  0.04258012 -0.03265439  0.06311704 -0.08118585  0.03664415 -0.01125074\n",
      "  0.02053103  0.07673146  0.11433513  0.04949458  0.01775981  0.0087895\n",
      " -0.06073827 -0.06694341 -0.0538554   0.00167296  0.00040965  0.11244578\n",
      "  0.02971407  0.03480215 -0.12949622  0.06620301 -0.00949686 -0.01424659\n",
      "  0.10851309  0.00341597  0.11928855  0.07900734  0.00948233 -0.00775606\n",
      " -0.09228163 -0.04326358 -0.06806017  0.07259079 -0.08126544  0.04742837\n",
      "  0.03657895 -0.01050563  0.08867833  0.0965886   0.09716371  0.00341649\n",
      "  0.09418395 -0.02464434  0.00391479  0.00757218  0.01118723  0.08521334\n",
      "  0.06735776 -0.00739622 -0.05509179 -0.10480236]\n",
      "[ 8.9806646e-02  8.3407700e-02 -1.1798419e-02  5.7855189e-02\n",
      "  3.6763567e-02 -1.3260387e-01  1.6371010e-02  1.7980438e-01\n",
      " -4.1244574e-02 -5.1202621e-02 -2.7377773e-02  2.6381295e-03\n",
      " -1.0048286e-01  1.1214233e-01  4.7685739e-02  1.1136524e-02\n",
      "  1.9078605e-02  2.0530418e-02 -1.0291066e-02 -1.9726233e-01\n",
      " -2.7633462e-02  3.7574865e-02  3.1453148e-02  3.3114012e-02\n",
      " -5.0845504e-02  5.0211757e-02 -4.5855641e-02 -2.5809482e-03\n",
      " -2.4674395e-02  3.1770434e-02  7.0820272e-02 -7.4569061e-02\n",
      "  1.0403067e-02 -1.1701451e-01 -2.4360627e-02  1.1483150e-02\n",
      "  4.3960288e-02 -8.3460920e-03 -4.2369548e-02 -4.9098276e-02\n",
      "  4.3972999e-02 -4.2165540e-02 -4.1256178e-02 -1.3643131e-04\n",
      "  6.6453576e-02  2.8096139e-02 -7.2320491e-02  1.8488858e-02\n",
      "  5.4495938e-02 -1.9358030e-02  2.5434202e-02 -6.9690801e-02\n",
      "  4.0799469e-02  9.6439533e-03  2.9656105e-02  1.1030831e-01\n",
      "  9.7905964e-02  1.9541325e-02  1.7243437e-02  1.7943308e-03\n",
      " -2.3597050e-02 -6.9363631e-02 -2.8624272e-02 -1.8109009e-03\n",
      "  2.8495993e-03  1.0893640e-01  3.1104304e-02  4.2596489e-02\n",
      " -1.2973224e-01  6.4560443e-02 -2.6940536e-02 -7.4859373e-03\n",
      "  9.6175738e-02  2.7372427e-03  8.7216333e-02  6.0491577e-02\n",
      "  7.7405013e-03 -2.4500698e-02 -8.7746777e-02 -6.5716624e-02\n",
      " -5.8674917e-02  7.4035585e-02 -9.1714196e-02  4.1996006e-02\n",
      "  4.4636041e-02 -2.7224384e-03  9.7205870e-02  5.6840360e-02\n",
      "  7.2847478e-02 -1.3239097e-02  9.8026894e-02 -4.6826564e-02\n",
      " -1.0135775e-02  1.6236655e-02  1.1810157e-02  7.5534597e-02\n",
      "  5.9409730e-02  1.0168437e-02 -1.8131174e-02 -8.6513504e-02]\n",
      "\n",
      "[ 8.1006840e-02 -1.0701169e-02  1.1228808e-02  5.4238938e-02\n",
      " -1.9774009e-02 -1.0504725e-01  7.0534885e-02  1.4368185e-01\n",
      "  3.2626204e-02 -3.8967531e-02 -3.9822750e-02 -3.0666972e-02\n",
      " -4.7684260e-02  7.0856765e-02 -7.5221285e-02  4.1390944e-02\n",
      "  3.3609733e-02 -5.4232585e-03 -6.7303432e-03 -1.0892425e-01\n",
      " -2.1828399e-03  5.9595358e-02  4.3930609e-02  5.6774687e-02\n",
      " -8.8026926e-02 -6.4529030e-04 -4.9941961e-02 -3.3923034e-02\n",
      "  2.1874536e-02  5.8677655e-02  1.0323280e-01 -4.8508834e-02\n",
      "  6.2233400e-02 -9.3159452e-02  6.4380416e-03  3.7555986e-03\n",
      "  1.3950077e-02  3.1931520e-02 -4.9807005e-02 -4.1293763e-02\n",
      " -1.5698213e-02 -5.1291160e-02 -4.9605505e-03 -6.7904688e-02\n",
      "  8.2579955e-02  2.6083997e-02 -7.0144832e-02  1.5434390e-02\n",
      "  8.3083384e-02 -1.6668545e-02  3.5151863e-03 -3.2310180e-02\n",
      "  9.2659798e-03 -1.6875710e-02 -5.0474694e-03  1.0747033e-01\n",
      "  7.0462003e-02  3.0582001e-02  1.2802775e-02  2.3385204e-02\n",
      " -1.0757421e-03 -1.0457128e-01 -4.3956317e-02 -3.3113360e-04\n",
      " -5.3974014e-02  5.0965440e-02  3.0212622e-02  9.3762157e-03\n",
      " -1.4356524e-01  9.0099767e-02 -5.7567321e-02 -8.2474573e-05\n",
      "  1.3603413e-01 -2.9447919e-02  1.1115767e-01  8.0334842e-02\n",
      " -3.1530470e-02 -1.8676871e-02 -1.3857360e-01  1.5724113e-02\n",
      " -1.1900683e-01  7.2904997e-02 -9.1502249e-02  6.1528444e-02\n",
      "  2.6517382e-02 -5.2772868e-02  4.0611513e-02  5.1191278e-02\n",
      "  9.7905181e-02  5.0666325e-02  8.7715134e-02 -5.7231002e-02\n",
      " -9.5597640e-02  3.3671751e-03 -4.2251632e-02  4.1656036e-02\n",
      " -3.1423345e-04 -3.5901681e-02  8.6325612e-03 -4.1457336e-02]\n",
      "[ 0.0713748  -0.00541729  0.01812478  0.03032929 -0.00037013 -0.10244965\n",
      "  0.06462955  0.10624087  0.00774865 -0.03776881 -0.06428425 -0.03032991\n",
      " -0.08925632  0.07310367 -0.03547299  0.06440978  0.01813328  0.01797433\n",
      " -0.03270748 -0.14487807  0.00548526  0.04557154  0.04562391  0.02789718\n",
      " -0.06236935  0.02171788 -0.05045199 -0.02371556  0.00442209  0.05980989\n",
      "  0.0961284  -0.0394531   0.07611027 -0.11239044 -0.0040445   0.00258918\n",
      "  0.01105411  0.03224312 -0.02797848 -0.03285863 -0.01961133 -0.04545905\n",
      "  0.00665523 -0.0513367   0.09949934 -0.00157326 -0.0662165  -0.00312116\n",
      "  0.08202041 -0.03088274  0.00486005 -0.02762048  0.01448533 -0.00602802\n",
      " -0.01843471  0.10486969  0.06834033  0.04251891 -0.01413292  0.04085182\n",
      "  0.01867051 -0.07038275 -0.01720223 -0.01711147 -0.00958882  0.06908438\n",
      "  0.02909134  0.03000179 -0.14897256  0.06878975 -0.07160337 -0.01728685\n",
      "  0.11096425 -0.02755122  0.09816791  0.04906859 -0.006078    0.00417236\n",
      " -0.10246781 -0.01402604 -0.11201441  0.08646882 -0.1125763   0.06977952\n",
      "  0.02051309 -0.00759333  0.02935194 -0.00342721  0.08286678  0.03107994\n",
      "  0.12787141 -0.0618703  -0.06332881  0.01386552 -0.06259219  0.04139234\n",
      "  0.01164853 -0.00316882  0.02182003 -0.0526983 ]\n",
      "\n"
     ]
    }
   ],
   "source": [
    "n_samples = 5\n",
    "test_samples = np.array(X_train_v1)[np.random.choice(len(X_train_v1),n_samples, replace=False)]\n",
    "\n",
    "reconstructed_samples = autoencoder.predict(test_samples)\n",
    "fig, axes = plt.subplots(n_samples, 2, figsize=(8, 2 * n_samples))\n",
    "\n",
    "for i in range(n_samples):\n",
    "    axes[i, 0].imshow(test_samples[i].reshape(1,100), cmap=\"gray\")  # Modify shape for your data\n",
    "    axes[i, 0].set_title(\"Original\")\n",
    "    axes[i, 0].axis(\"off\")\n",
    "\n",
    "    axes[i, 1].imshow(reconstructed_samples[i].reshape(1, 100), cmap=\"gray\")  # Modify shape for your data\n",
    "    axes[i, 1].set_title(\"Reconstructed\")\n",
    "    axes[i, 1].axis(\"off\")\n",
    "\n",
    "plt.tight_layout()\n",
    "plt.show()\n",
    "for i in range(len(test_samples)):\n",
    "    print(test_samples[i])\n",
    "    print(reconstructed_samples[i])\n",
    "    print()\n",
    "    "
   ]
  },
  {
   "cell_type": "code",
   "execution_count": 49,
   "id": "0404f41b-43fd-4ecd-afe0-7ae20f728dff",
   "metadata": {},
   "outputs": [
    {
     "data": {
      "text/html": [
       "<pre style=\"white-space:pre;overflow-x:auto;line-height:normal;font-family:Menlo,'DejaVu Sans Mono',consolas,'Courier New',monospace\"><span style=\"font-weight: bold\">Model: \"functional_3\"</span>\n",
       "</pre>\n"
      ],
      "text/plain": [
       "\u001b[1mModel: \"functional_3\"\u001b[0m\n"
      ]
     },
     "metadata": {},
     "output_type": "display_data"
    },
    {
     "data": {
      "text/html": [
       "<pre style=\"white-space:pre;overflow-x:auto;line-height:normal;font-family:Menlo,'DejaVu Sans Mono',consolas,'Courier New',monospace\">┏━━━━━━━━━━━━━━━━━━━━━━━━━━━━━━━━━┳━━━━━━━━━━━━━━━━━━━━━━━━┳━━━━━━━━━━━━━━━┓\n",
       "┃<span style=\"font-weight: bold\"> Layer (type)                    </span>┃<span style=\"font-weight: bold\"> Output Shape           </span>┃<span style=\"font-weight: bold\">       Param # </span>┃\n",
       "┡━━━━━━━━━━━━━━━━━━━━━━━━━━━━━━━━━╇━━━━━━━━━━━━━━━━━━━━━━━━╇━━━━━━━━━━━━━━━┩\n",
       "│ input_layer_2 (<span style=\"color: #0087ff; text-decoration-color: #0087ff\">InputLayer</span>)      │ (<span style=\"color: #00d7ff; text-decoration-color: #00d7ff\">None</span>, <span style=\"color: #00af00; text-decoration-color: #00af00\">100</span>)            │             <span style=\"color: #00af00; text-decoration-color: #00af00\">0</span> │\n",
       "├─────────────────────────────────┼────────────────────────┼───────────────┤\n",
       "│ dense_8 (<span style=\"color: #0087ff; text-decoration-color: #0087ff\">Dense</span>)                 │ (<span style=\"color: #00d7ff; text-decoration-color: #00d7ff\">None</span>, <span style=\"color: #00af00; text-decoration-color: #00af00\">64</span>)             │         <span style=\"color: #00af00; text-decoration-color: #00af00\">6,464</span> │\n",
       "├─────────────────────────────────┼────────────────────────┼───────────────┤\n",
       "│ dense_9 (<span style=\"color: #0087ff; text-decoration-color: #0087ff\">Dense</span>)                 │ (<span style=\"color: #00d7ff; text-decoration-color: #00d7ff\">None</span>, <span style=\"color: #00af00; text-decoration-color: #00af00\">32</span>)             │         <span style=\"color: #00af00; text-decoration-color: #00af00\">2,080</span> │\n",
       "├─────────────────────────────────┼────────────────────────┼───────────────┤\n",
       "│ dense_10 (<span style=\"color: #0087ff; text-decoration-color: #0087ff\">Dense</span>)                │ (<span style=\"color: #00d7ff; text-decoration-color: #00d7ff\">None</span>, <span style=\"color: #00af00; text-decoration-color: #00af00\">64</span>)             │         <span style=\"color: #00af00; text-decoration-color: #00af00\">2,112</span> │\n",
       "├─────────────────────────────────┼────────────────────────┼───────────────┤\n",
       "│ dense_11 (<span style=\"color: #0087ff; text-decoration-color: #0087ff\">Dense</span>)                │ (<span style=\"color: #00d7ff; text-decoration-color: #00d7ff\">None</span>, <span style=\"color: #00af00; text-decoration-color: #00af00\">100</span>)            │         <span style=\"color: #00af00; text-decoration-color: #00af00\">6,500</span> │\n",
       "└─────────────────────────────────┴────────────────────────┴───────────────┘\n",
       "</pre>\n"
      ],
      "text/plain": [
       "┏━━━━━━━━━━━━━━━━━━━━━━━━━━━━━━━━━┳━━━━━━━━━━━━━━━━━━━━━━━━┳━━━━━━━━━━━━━━━┓\n",
       "┃\u001b[1m \u001b[0m\u001b[1mLayer (type)                   \u001b[0m\u001b[1m \u001b[0m┃\u001b[1m \u001b[0m\u001b[1mOutput Shape          \u001b[0m\u001b[1m \u001b[0m┃\u001b[1m \u001b[0m\u001b[1m      Param #\u001b[0m\u001b[1m \u001b[0m┃\n",
       "┡━━━━━━━━━━━━━━━━━━━━━━━━━━━━━━━━━╇━━━━━━━━━━━━━━━━━━━━━━━━╇━━━━━━━━━━━━━━━┩\n",
       "│ input_layer_2 (\u001b[38;5;33mInputLayer\u001b[0m)      │ (\u001b[38;5;45mNone\u001b[0m, \u001b[38;5;34m100\u001b[0m)            │             \u001b[38;5;34m0\u001b[0m │\n",
       "├─────────────────────────────────┼────────────────────────┼───────────────┤\n",
       "│ dense_8 (\u001b[38;5;33mDense\u001b[0m)                 │ (\u001b[38;5;45mNone\u001b[0m, \u001b[38;5;34m64\u001b[0m)             │         \u001b[38;5;34m6,464\u001b[0m │\n",
       "├─────────────────────────────────┼────────────────────────┼───────────────┤\n",
       "│ dense_9 (\u001b[38;5;33mDense\u001b[0m)                 │ (\u001b[38;5;45mNone\u001b[0m, \u001b[38;5;34m32\u001b[0m)             │         \u001b[38;5;34m2,080\u001b[0m │\n",
       "├─────────────────────────────────┼────────────────────────┼───────────────┤\n",
       "│ dense_10 (\u001b[38;5;33mDense\u001b[0m)                │ (\u001b[38;5;45mNone\u001b[0m, \u001b[38;5;34m64\u001b[0m)             │         \u001b[38;5;34m2,112\u001b[0m │\n",
       "├─────────────────────────────────┼────────────────────────┼───────────────┤\n",
       "│ dense_11 (\u001b[38;5;33mDense\u001b[0m)                │ (\u001b[38;5;45mNone\u001b[0m, \u001b[38;5;34m100\u001b[0m)            │         \u001b[38;5;34m6,500\u001b[0m │\n",
       "└─────────────────────────────────┴────────────────────────┴───────────────┘\n"
      ]
     },
     "metadata": {},
     "output_type": "display_data"
    },
    {
     "data": {
      "text/html": [
       "<pre style=\"white-space:pre;overflow-x:auto;line-height:normal;font-family:Menlo,'DejaVu Sans Mono',consolas,'Courier New',monospace\"><span style=\"font-weight: bold\"> Total params: </span><span style=\"color: #00af00; text-decoration-color: #00af00\">51,470</span> (201.06 KB)\n",
       "</pre>\n"
      ],
      "text/plain": [
       "\u001b[1m Total params: \u001b[0m\u001b[38;5;34m51,470\u001b[0m (201.06 KB)\n"
      ]
     },
     "metadata": {},
     "output_type": "display_data"
    },
    {
     "data": {
      "text/html": [
       "<pre style=\"white-space:pre;overflow-x:auto;line-height:normal;font-family:Menlo,'DejaVu Sans Mono',consolas,'Courier New',monospace\"><span style=\"font-weight: bold\"> Trainable params: </span><span style=\"color: #00af00; text-decoration-color: #00af00\">17,156</span> (67.02 KB)\n",
       "</pre>\n"
      ],
      "text/plain": [
       "\u001b[1m Trainable params: \u001b[0m\u001b[38;5;34m17,156\u001b[0m (67.02 KB)\n"
      ]
     },
     "metadata": {},
     "output_type": "display_data"
    },
    {
     "data": {
      "text/html": [
       "<pre style=\"white-space:pre;overflow-x:auto;line-height:normal;font-family:Menlo,'DejaVu Sans Mono',consolas,'Courier New',monospace\"><span style=\"font-weight: bold\"> Non-trainable params: </span><span style=\"color: #00af00; text-decoration-color: #00af00\">0</span> (0.00 B)\n",
       "</pre>\n"
      ],
      "text/plain": [
       "\u001b[1m Non-trainable params: \u001b[0m\u001b[38;5;34m0\u001b[0m (0.00 B)\n"
      ]
     },
     "metadata": {},
     "output_type": "display_data"
    },
    {
     "data": {
      "text/html": [
       "<pre style=\"white-space:pre;overflow-x:auto;line-height:normal;font-family:Menlo,'DejaVu Sans Mono',consolas,'Courier New',monospace\"><span style=\"font-weight: bold\"> Optimizer params: </span><span style=\"color: #00af00; text-decoration-color: #00af00\">34,314</span> (134.04 KB)\n",
       "</pre>\n"
      ],
      "text/plain": [
       "\u001b[1m Optimizer params: \u001b[0m\u001b[38;5;34m34,314\u001b[0m (134.04 KB)\n"
      ]
     },
     "metadata": {},
     "output_type": "display_data"
    }
   ],
   "source": [
    "# print(np.array(X_train_v1.shape))\n",
    "autoencoder = tf.keras.models.load_model('autoencoder_model_cuslr_linear_e5_b64_10pv.keras')\n",
    "autoencoder.summary()"
   ]
  },
  {
   "cell_type": "code",
   "execution_count": null,
   "id": "cf417b4b-14a7-41fb-8e61-5334c1e1735e",
   "metadata": {},
   "outputs": [],
   "source": []
  },
  {
   "cell_type": "code",
   "execution_count": 51,
   "id": "adf464fd-88c7-4af0-9447-e920a3d27af3",
   "metadata": {},
   "outputs": [],
   "source": [
    "# latent_layer = autoencoder.get_layer('dense_33')\n",
    "latent_layer = autoencoder.get_layer('dense_9')\n",
    "encoder = Model(inputs=autoencoder.input, outputs=latent_layer.output)"
   ]
  },
  {
   "cell_type": "code",
   "execution_count": 52,
   "id": "9adddb0b-d2dc-429b-bb69-2afd52670134",
   "metadata": {},
   "outputs": [
    {
     "name": "stdout",
     "output_type": "stream",
     "text": [
      "\u001b[1m5000/5000\u001b[0m \u001b[32m━━━━━━━━━━━━━━━━━━━━\u001b[0m\u001b[37m\u001b[0m \u001b[1m7s\u001b[0m 1ms/step\n"
     ]
    }
   ],
   "source": [
    "latent_representation = encoder.predict(X_train_v1,batch_size=32)"
   ]
  },
  {
   "cell_type": "code",
   "execution_count": 53,
   "id": "2184960c-a74b-468c-ad48-0dc76bc3c4c1",
   "metadata": {},
   "outputs": [],
   "source": [
    "# print(latent_representation.shape)\n",
    "# print(latent_representation[0])"
   ]
  },
  {
   "cell_type": "code",
   "execution_count": 54,
   "id": "a80ebfb0-13f1-426a-a3ca-aaa1cad66862",
   "metadata": {},
   "outputs": [
    {
     "name": "stdout",
     "output_type": "stream",
     "text": [
      "2\n",
      "Done KMeans\n",
      "Done Score and round\n",
      "3\n",
      "Done KMeans\n",
      "Done Score and round\n",
      "4\n",
      "Done KMeans\n",
      "Done Score and round\n",
      "5\n",
      "Done KMeans\n",
      "Done Score and round\n",
      "6\n",
      "Done KMeans\n",
      "Done Score and round\n",
      "7\n",
      "Done KMeans\n",
      "Done Score and round\n",
      "8\n",
      "Done KMeans\n",
      "Done Score and round\n",
      "9\n",
      "Done KMeans\n",
      "Done Score and round\n",
      "10\n",
      "Done KMeans\n",
      "Done Score and round\n",
      "11\n",
      "Done KMeans\n",
      "Done Score and round\n",
      "12\n",
      "Done KMeans\n",
      "Done Score and round\n",
      "13\n",
      "Done KMeans\n",
      "Done Score and round\n",
      "14\n",
      "Done KMeans\n",
      "Done Score and round\n",
      "15\n",
      "Done KMeans\n",
      "Done Score and round\n",
      "16\n",
      "Done KMeans\n",
      "Done Score and round\n",
      "17\n",
      "Done KMeans\n",
      "Done Score and round\n",
      "18\n",
      "Done KMeans\n",
      "Done Score and round\n",
      "19\n",
      "Done KMeans\n",
      "Done Score and round\n",
      "20\n",
      "Done KMeans\n",
      "Done Score and round\n",
      "21\n",
      "Done KMeans\n",
      "Done Score and round\n",
      "22\n",
      "Done KMeans\n",
      "Done Score and round\n",
      "23\n",
      "Done KMeans\n",
      "Done Score and round\n",
      "24\n",
      "Done KMeans\n",
      "Done Score and round\n",
      "25\n",
      "Done KMeans\n",
      "Done Score and round\n",
      "26\n",
      "Done KMeans\n",
      "Done Score and round\n",
      "27\n",
      "Done KMeans\n",
      "Done Score and round\n",
      "28\n",
      "Done KMeans\n",
      "Done Score and round\n",
      "29\n",
      "Done KMeans\n",
      "Done Score and round\n",
      "30\n",
      "Done KMeans\n",
      "Done Score and round\n",
      "31\n",
      "Done KMeans\n",
      "Done Score and round\n",
      "32\n",
      "Done KMeans\n",
      "Done Score and round\n",
      "33\n",
      "Done KMeans\n",
      "Done Score and round\n",
      "34\n",
      "Done KMeans\n",
      "Done Score and round\n",
      "35\n",
      "Done KMeans\n",
      "Done Score and round\n",
      "36\n",
      "Done KMeans\n",
      "Done Score and round\n",
      "37\n",
      "Done KMeans\n",
      "Done Score and round\n",
      "38\n",
      "Done KMeans\n",
      "Done Score and round\n",
      "39\n",
      "Done KMeans\n",
      "Done Score and round\n",
      "40\n",
      "Done KMeans\n",
      "Done Score and round\n",
      "41\n",
      "Done KMeans\n",
      "Done Score and round\n",
      "42\n",
      "Done KMeans\n",
      "Done Score and round\n",
      "43\n",
      "Done KMeans\n",
      "Done Score and round\n",
      "44\n",
      "Done KMeans\n",
      "Done Score and round\n",
      "45\n",
      "Done KMeans\n",
      "Done Score and round\n",
      "46\n",
      "Done KMeans\n",
      "Done Score and round\n",
      "47\n",
      "Done KMeans\n",
      "Done Score and round\n",
      "48\n",
      "Done KMeans\n",
      "Done Score and round\n",
      "49\n",
      "Done KMeans\n",
      "Done Score and round\n",
      "50\n",
      "Done KMeans\n",
      "Done Score and round\n",
      "51\n",
      "Done KMeans\n",
      "Done Score and round\n",
      "52\n",
      "Done KMeans\n",
      "Done Score and round\n",
      "53\n",
      "Done KMeans\n",
      "Done Score and round\n",
      "54\n",
      "Done KMeans\n",
      "Done Score and round\n",
      "55\n",
      "Done KMeans\n",
      "Done Score and round\n",
      "56\n",
      "Done KMeans\n",
      "Done Score and round\n",
      "57\n",
      "Done KMeans\n",
      "Done Score and round\n",
      "58\n",
      "Done KMeans\n",
      "Done Score and round\n",
      "59\n",
      "Done KMeans\n",
      "Done Score and round\n",
      "60\n",
      "Done KMeans\n",
      "Done Score and round\n",
      "61\n",
      "Done KMeans\n",
      "Done Score and round\n",
      "62\n",
      "Done KMeans\n",
      "Done Score and round\n",
      "63\n",
      "Done KMeans\n",
      "Done Score and round\n",
      "64\n",
      "Done KMeans\n",
      "Done Score and round\n",
      "65\n",
      "Done KMeans\n",
      "Done Score and round\n",
      "66\n",
      "Done KMeans\n",
      "Done Score and round\n",
      "67\n",
      "Done KMeans\n",
      "Done Score and round\n",
      "68\n",
      "Done KMeans\n",
      "Done Score and round\n",
      "69\n",
      "Done KMeans\n",
      "Done Score and round\n",
      "70\n",
      "Done KMeans\n",
      "Done Score and round\n",
      "71\n",
      "Done KMeans\n",
      "Done Score and round\n",
      "72\n",
      "Done KMeans\n",
      "Done Score and round\n",
      "73\n",
      "Done KMeans\n",
      "Done Score and round\n",
      "74\n",
      "Done KMeans\n",
      "Done Score and round\n",
      "75\n",
      "Done KMeans\n",
      "Done Score and round\n",
      "76\n",
      "Done KMeans\n",
      "Done Score and round\n",
      "77\n",
      "Done KMeans\n",
      "Done Score and round\n",
      "78\n",
      "Done KMeans\n",
      "Done Score and round\n",
      "79\n",
      "Done KMeans\n",
      "Done Score and round\n",
      "80\n",
      "Done KMeans\n",
      "Done Score and round\n",
      "81\n",
      "Done KMeans\n",
      "Done Score and round\n",
      "82\n",
      "Done KMeans\n",
      "Done Score and round\n",
      "83\n",
      "Done KMeans\n",
      "Done Score and round\n",
      "84\n",
      "Done KMeans\n",
      "Done Score and round\n",
      "85\n",
      "Done KMeans\n",
      "Done Score and round\n",
      "86\n",
      "Done KMeans\n",
      "Done Score and round\n",
      "87\n",
      "Done KMeans\n",
      "Done Score and round\n",
      "88\n",
      "Done KMeans\n",
      "Done Score and round\n",
      "89\n",
      "Done KMeans\n",
      "Done Score and round\n",
      "90\n",
      "Done KMeans\n",
      "Done Score and round\n",
      "91\n",
      "Done KMeans\n",
      "Done Score and round\n",
      "92\n",
      "Done KMeans\n",
      "Done Score and round\n",
      "93\n",
      "Done KMeans\n",
      "Done Score and round\n",
      "94\n",
      "Done KMeans\n",
      "Done Score and round\n",
      "95\n",
      "Done KMeans\n",
      "Done Score and round\n",
      "96\n",
      "Done KMeans\n",
      "Done Score and round\n",
      "97\n",
      "Done KMeans\n",
      "Done Score and round\n",
      "98\n",
      "Done KMeans\n",
      "Done Score and round\n",
      "99\n",
      "Done KMeans\n",
      "Done Score and round\n",
      "100\n",
      "Done KMeans\n",
      "Done Score and round\n"
     ]
    }
   ],
   "source": [
    "k_values = range(2, 101)  # from 2 to 10 clusters\n",
    "\n",
    "wcss = []  # List to store within-cluster sum of squares\n",
    "silhouette_scores = []  # List to store silhouette scores\n",
    "sample_size = 50000\n",
    "for k in k_values:\n",
    "    print(k)\n",
    "    kmeans = KMeans(n_clusters=k, random_state=42)\n",
    "    kmeans.fit(latent_representation)\n",
    "    wcss.append(kmeans.inertia_)  # inertia is the WCSS\n",
    "    print(\"Done KMeans\")\n",
    "    # Calculate silhouette score only if k > 1\n",
    "    if k > 1:\n",
    "        score = silhouette_score(latent_representation, kmeans.labels_,sample_size=sample_size,random_state=42)\n",
    "        silhouette_scores.append(score)\n",
    "    else:\n",
    "        silhouette_scores.append(None)\n",
    "    print(\"Done Score and round\")"
   ]
  },
  {
   "cell_type": "code",
   "execution_count": 55,
   "id": "c8537f70-57b5-44bf-81eb-2c91d942d616",
   "metadata": {},
   "outputs": [
    {
     "data": {
      "image/png": "[encoded data removed]",
      "text/plain": [
       "<Figure size 640x480 with 1 Axes>"
      ]
     },
     "metadata": {},
     "output_type": "display_data"
    }
   ],
   "source": [
    "plt.plot(list(k_values), wcss, marker='o')\n",
    "plt.title('Elbow Method For Optimal k')\n",
    "plt.xlabel('Number of clusters (k)')\n",
    "plt.ylabel('WCSS (Inertia)')\n",
    "plt.xticks(list(k_values))\n",
    "plt.show()"
   ]
  },
  {
   "cell_type": "code",
   "execution_count": 56,
   "id": "f8b2b648-8983-490b-92a3-8da340b66d38",
   "metadata": {},
   "outputs": [
    {
     "data": {
      "image/png": "[encoded data removed]",
      "text/plain": [
       "<Figure size 640x480 with 1 Axes>"
      ]
     },
     "metadata": {},
     "output_type": "display_data"
    },
    {
     "name": "stdout",
     "output_type": "stream",
     "text": [
      "[0.54229635, 0.3663391, 0.305425, 0.2997112, 0.301807, 0.27113283, 0.2660469, 0.25831866, 0.25780603, 0.26069793, 0.25171643, 0.24542664, 0.24545322, 0.24778572, 0.233839, 0.2319799, 0.22859854, 0.22993796, 0.22869785, 0.22586857, 0.22473316, 0.22458485, 0.22061631, 0.21974353, 0.21792196, 0.2167143, 0.21438904, 0.21599826, 0.21630578, 0.21445973, 0.20835422, 0.21057351, 0.20873252, 0.20711716, 0.20832072, 0.20910236, 0.20640227, 0.20530002, 0.20534693, 0.20378728, 0.20321961, 0.204968, 0.20354715, 0.20141616, 0.20097326, 0.20235123, 0.20063628, 0.1976089, 0.19852462, 0.19762424, 0.1964789, 0.19628726, 0.19430748, 0.19174041, 0.19281821, 0.1920958, 0.18951713, 0.18884027, 0.1904943, 0.19052842, 0.19048329, 0.18824174, 0.18945362, 0.18842596, 0.18814173, 0.1881092, 0.1875227, 0.18744487, 0.18723555, 0.18681143, 0.18487342, 0.18455379, 0.18500428, 0.18415163, 0.18292929, 0.18480426, 0.18389072, 0.18281643, 0.18396026, 0.18262687, 0.18278843, 0.18241195, 0.18219195, 0.18064533, 0.18093649, 0.17907965, 0.17756744, 0.17812692, 0.17733623, 0.1774231, 0.17966887, 0.17785725, 0.17750432, 0.17740627, 0.17627703, 0.17783758, 0.1775059, 0.17658897, 0.17660011] [9135188.0, 7843227.0, 5902054.0, 4939797.0, 4309739.0, 3893713.75, 3591885.75, 3380195.5, 3104824.5, 2892936.25, 2751361.0, 2627454.5, 2516343.5, 2388303.75, 2310589.5, 2226323.5, 2154018.25, 2086438.75, 2019898.0, 1962329.25, 1905330.25, 1864682.5, 1825568.625, 1769996.0, 1737007.75, 1706496.5, 1673627.75, 1633134.75, 1603050.875, 1574744.75, 1546102.625, 1517432.25, 1493495.75, 1470604.125, 1447202.5, 1426491.5, 1406379.875, 1387662.0, 1367262.0, 1348891.75, 1332538.5, 1313070.25, 1299576.5, 1285790.0, 1274846.5, 1254593.125, 1241432.5, 1231101.25, 1218767.75, 1208000.375, 1195866.875, 1185022.875, 1173020.0, 1164488.125, 1151736.75, 1141638.5, 1134421.0, 1124053.0, 1113009.5, 1101750.875, 1091700.25, 1085821.75, 1076908.875, 1069250.375, 1061786.375, 1052383.0, 1043348.375, 1035161.125, 1028730.375, 1021805.375, 1016284.6875, 1008253.125, 1002697.0625, 996889.625, 993025.875, 984303.75, 977117.5, 971991.875, 965173.75, 962070.625, 955466.875, 949953.75, 945164.8125, 941091.625, 934062.5, 929859.4375, 925350.8125, 920741.5625, 916539.375, 910486.125, 905333.875, 901516.8125, 896961.375, 892750.25, 888333.9375, 882593.375, 878966.5, 877187.0, 871623.75]\n"
     ]
    }
   ],
   "source": [
    "plt.plot(list(k_values)[1:], silhouette_scores[1:], marker='o')  # starting at k=2\n",
    "plt.title('Silhouette Score For Various k')\n",
    "plt.xlabel('Number of clusters (k)')\n",
    "plt.ylabel('Silhouette Score')\n",
    "plt.xticks(list(k_values)[1:])\n",
    "plt.show()\n",
    "print(silhouette_scores,wcss)"
   ]
  },
  {
   "cell_type": "code",
   "execution_count": 59,
   "id": "6aef3937-68b6-4aa0-ba2e-e69e858efb55",
   "metadata": {},
   "outputs": [],
   "source": [
    "kmeans_rep = KMeans(n_clusters=2,random_state=42)\n",
    "kmeans_rep.fit(latent_representation)\n",
    "cluster_labels = kmeans_rep.labels_\n",
    "# print(cluster_labels.shape)"
   ]
  },
  {
   "cell_type": "code",
   "execution_count": 60,
   "id": "1747bf32-5be7-47d3-9988-2c319782064b",
   "metadata": {},
   "outputs": [
    {
     "data": {
      "image/png": "[encoded data removed]",
      "text/plain": [
       "<Figure size 640x480 with 2 Axes>"
      ]
     },
     "metadata": {},
     "output_type": "display_data"
    },
    {
     "name": "stdout",
     "output_type": "stream",
     "text": [
      "655.704596042633\n"
     ]
    }
   ],
   "source": [
    "start = time.time()\n",
    "num_samples = latent_representation.shape[0]\n",
    "# sample_size = 200000\n",
    "# sample_size = 199999\n",
    "# sample_indices = np.random.choice(num_samples, sample_size, replace=False)\n",
    "# latent_sample = latent_representation[sample_indices]\n",
    "latent_sample = latent_representation\n",
    "labels_sample = cluster_labels\n",
    "\n",
    "# Set up t-SNE to project the latent vectors to 2 dimensions\n",
    "tsne = TSNE(n_components=2, random_state=42)\n",
    "tsne_results = tsne.fit_transform(latent_sample)\n",
    "\n",
    "# Plot the t-SNE results, color-coded by cluster labels\n",
    "scatter = plt.scatter(tsne_results[:, 0], tsne_results[:, 1],\n",
    "                      c=labels_sample, cmap='viridis', s=10)\n",
    "plt.colorbar(scatter, label='Cluster Label')\n",
    "plt.title(\"t-SNE Projection of Latent Representations\")\n",
    "plt.xlabel(\"Dimension 1\")\n",
    "plt.ylabel(\"Dimension 2\")\n",
    "end = time.time()\n",
    "plt.show()\n",
    "print(end-start)"
   ]
  },
  {
   "cell_type": "code",
   "execution_count": 11,
   "id": "6f260131-917d-4376-97ae-b2051da5eb4a",
   "metadata": {},
   "outputs": [],
   "source": [
    "\n",
    "# Perform K-Means clustering with k=2\n",
    "kmeans = KMeans(n_clusters=2, random_state=42)\n",
    "clusters = kmeans.fit_predict(latent_representation)\n"
   ]
  },
  {
   "cell_type": "code",
   "execution_count": null,
   "id": "3b53191e-37ae-4c67-9b26-b2b8bda31b06",
   "metadata": {},
   "outputs": [
    {
     "name": "stderr",
     "output_type": "stream",
     "text": [
      "/opt/anaconda3/envs/final_env/lib/python3.12/site-packages/sklearn/utils/deprecation.py:151: FutureWarning: 'force_all_finite' was renamed to 'ensure_all_finite' in 1.6 and will be removed in 1.8.\n",
      "  warnings.warn(\n",
      "/opt/anaconda3/envs/final_env/lib/python3.12/site-packages/umap/umap_.py:1952: UserWarning: n_jobs value 1 overridden to 1 by setting random_state. Use no seed for parallelism.\n",
      "  warn(\n",
      "/opt/anaconda3/envs/final_env/lib/python3.12/site-packages/sklearn/manifold/_spectral_embedding.py:455: UserWarning: Exited at iteration 2000 with accuracies \n",
      "[4.35527041e-15 3.21045878e-07 6.74308205e-07 2.43576204e-05]\n",
      "not reaching the requested tolerance 2.3692846298217773e-06.\n",
      "Use iteration 1677 instead with accuracy \n",
      "1.2391699555271979e-06.\n",
      "\n",
      "  _, diffusion_map = lobpcg(\n",
      "/opt/anaconda3/envs/final_env/lib/python3.12/site-packages/sklearn/manifold/_spectral_embedding.py:455: UserWarning: Exited postprocessing with accuracies \n",
      "[3.53264481e-15 2.55195071e-07 4.13736712e-07 4.28774480e-06]\n",
      "not reaching the requested tolerance 2.3692846298217773e-06.\n",
      "  _, diffusion_map = lobpcg(\n"
     ]
    }
   ],
   "source": [
    "start = time.time()\n",
    "# Set up UMAP to project the latent representations to 2D\n",
    "umap_reducer = umap.UMAP(n_components=2, random_state=42)\n",
    "umap_results = umap_reducer.fit_transform(latent_representation)\n",
    "\n",
    "# Plot the UMAP projection, color-coded by the cluster labels from K-Means\n",
    "scatter = plt.scatter(umap_results[:, 0], umap_results[:, 1],\n",
    "                      c=clusters, cmap='viridis', s=5)\n",
    "plt.colorbar(scatter, label='Cluster Label')\n",
    "plt.title(\"UMAP Projection of Latent Representations (k=2)\")\n",
    "plt.xlabel(\"UMAP Dimension 1\")\n",
    "plt.ylabel(\"UMAP Dimension 2\")\n",
    "end = time.time()\n",
    "plt.show()\n",
    "print(end-start)"
   ]
  },
  {
   "cell_type": "code",
   "execution_count": null,
   "id": "729cf444-3598-42e8-ab02-bea02cc142ab",
   "metadata": {},
   "outputs": [],
   "source": []
  }
 ],
 "metadata": {
  "kernelspec": {
   "display_name": "Python (final_env)",
   "language": "python",
   "name": "final_env"
  },
  "language_info": {
   "codemirror_mode": {
    "name": "ipython",
    "version": 3
   },
   "file_extension": ".py",
   "mimetype": "text/x-python",
   "name": "python",
   "nbconvert_exporter": "python",
   "pygments_lexer": "ipython3",
   "version": "3.12.9"
  }
 },
 "nbformat": 4,
 "nbformat_minor": 5
}
